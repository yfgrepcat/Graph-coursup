{
 "cells": [
  {
   "cell_type": "markdown",
   "id": "bc01b438",
   "metadata": {},
   "source": [
    "# Graph-coursup Project\n",
    "This notebook contains placeholder tests for the functions implemented in the Graph-coursup project."
   ]
  },
  {
   "cell_type": "code",
   "execution_count": null,
   "id": "e58587a1",
   "metadata": {},
   "outputs": [
    {
     "ename": "",
     "evalue": "",
     "output_type": "error",
     "traceback": [
      "\u001b[1;31mRunning cells with '.venv (Python 3.12.3)' requires the ipykernel package.\n",
      "\u001b[1;31mInstall 'ipykernel' into the Python environment. \n",
      "\u001b[1;31mCommand: '/home/caplam/Documents/Graph-coursup/Graph-coursup/.venv/bin/python -m pip install ipykernel -U --force-reinstall'"
     ]
    }
   ],
   "source": [
    "# Import necessary libraries\n",
    "import json\n",
    "from src.models import School, Student\n",
    "from src.algorithms import StableMarriage\n",
    "from src.cli_handler import CLIHandler\n",
    "from src.main import Schools, Students\n"
   ]
  },
  {
   "cell_type": "markdown",
   "id": "715dbe18",
   "metadata": {},
   "source": [
    "## Test Schools Class"
   ]
  },
  {
   "cell_type": "code",
   "execution_count": null,
   "id": "7a031fac",
   "metadata": {},
   "outputs": [],
   "source": [
    "# Initialize Schools class and load data\n",
    "schools = Schools()\n",
    "print(\"Schools dictionary:\", schools.schoolsDict)"
   ]
  },
  {
   "cell_type": "markdown",
   "id": "54195b62",
   "metadata": {},
   "source": [
    "## Test Students Class"
   ]
  },
  {
   "cell_type": "code",
   "execution_count": null,
   "id": "be44b41d",
   "metadata": {},
   "outputs": [],
   "source": [
    "# Initialize Students class and load data\n",
    "students = Students()\n",
    "print(\"Students dictionary:\", students.studentsDict)"
   ]
  },
  {
   "cell_type": "markdown",
   "id": "06c32d43",
   "metadata": {},
   "source": [
    "## Test Stable Marriage Algorithm"
   ]
  },
  {
   "cell_type": "code",
   "execution_count": null,
   "id": "a913d638",
   "metadata": {},
   "outputs": [],
   "source": [
    "# Initialize StableMarriage class and test bidding\n",
    "stableMarriage = StableMarriage(schools, students)\n",
    "biddingPrompt = 1  # Example: Schools initiate the bidding\n",
    "stableMarriage.biddingChoice(biddingPrompt)\n",
    "print(\"Matching results:\", stableMarriage.serenadingWave())"
   ]
  },
  {
   "cell_type": "markdown",
   "id": "4f32b7f0",
   "metadata": {},
   "source": [
    "## Test CLIHandler"
   ]
  },
  {
   "cell_type": "code",
   "execution_count": null,
   "id": "e33e70db",
   "metadata": {},
   "outputs": [],
   "source": [
    "# Example CLIHandler test\n",
    "cli_handler = CLIHandler()\n",
    "user_choice = cli_handler.prompt_user(\"Choose who's the one serenading:\\n1. Schools\\n2. Students\", [1, 2])\n",
    "print(\"User choice:\", user_choice)"
   ]
  }
 ],
 "metadata": {
  "kernelspec": {
   "display_name": ".venv",
   "language": "python",
   "name": "python3"
  },
  "language_info": {
   "name": "python",
   "version": "3.12.3"
  }
 },
 "nbformat": 4,
 "nbformat_minor": 5
}
